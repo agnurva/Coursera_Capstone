{
 "cells": [
  {
   "cell_type": "markdown",
   "metadata": {},
   "source": [
    "## Capstone Project - Where do folks in Indiranagar, Bangalore like to hang out?"
   ]
  },
  {
   "cell_type": "code",
   "execution_count": null,
   "metadata": {},
   "outputs": [],
   "source": [
    "# Importing necessary python modules\n",
    "import requests # library to handle requests\n",
    "import pandas as pd # library for data analsysis\n",
    "import numpy as np # library to handle data in a vectorized manner\n",
    "#import random # library for random number generation\n",
    "\n",
    "#!conda install -c conda-forge geopy --yes \n",
    "from geopy.geocoders import Nominatim # module to convert an address into latitude and longitude values\n",
    "\n",
    "# libraries for displaying images\n",
    "from IPython.display import Image \n",
    "from IPython.core.display import HTML \n",
    "    \n",
    "# tranforming json file into a pandas dataframe library\n",
    "from pandas.io.json import json_normalize"
   ]
  },
  {
   "cell_type": "markdown",
   "metadata": {},
   "source": [
    "Define Foursquare Details"
   ]
  },
  {
   "cell_type": "code",
   "execution_count": null,
   "metadata": {},
   "outputs": [],
   "source": [
    "CLIENT_ID = 'QS2CU0N3U4P3GJIYJAZFNOXVSL4HDYVFMJNTYM4FGOFNVQO2' # your Foursquare ID\n",
    "CLIENT_SECRET = '45PPL2FIQ1QAAA5Y2BTDFKP210P1UNE5HO1RVSJVZIHU2TRN' # your Foursquare Secret\n",
    "VERSION = '20180604'\n",
    "LIMIT = 30\n",
    "print('Your credentails:')\n",
    "print('CLIENT_ID: ' + CLIENT_ID)\n",
    "print('CLIENT_SECRET:' + CLIENT_SECRET)"
   ]
  },
  {
   "cell_type": "markdown",
   "metadata": {},
   "source": [
    "Since, I live in Bangalore I know that Indiranagar is one of the hot spots to hang out. So let us fetch the latitude and longitude of Indiranagar so that we can get the venues around it."
   ]
  },
  {
   "cell_type": "code",
   "execution_count": null,
   "metadata": {},
   "outputs": [],
   "source": [
    "address = 'Indiranagar, Bangalore'\n",
    "\n",
    "geolocator = Nominatim(user_agent=\"foursquare_agent\")\n",
    "location = geolocator.geocode(address)\n",
    "latitude = location.latitude\n",
    "longitude = location.longitude\n",
    "print(latitude, longitude)"
   ]
  },
  {
   "cell_type": "markdown",
   "metadata": {},
   "source": [
    "Now let us fetch all venues within 2000 mts of Indranagar"
   ]
  },
  {
   "cell_type": "code",
   "execution_count": null,
   "metadata": {},
   "outputs": [],
   "source": [
    "search_query = 'Hotel Bar'\n",
    "radius = 2000\n",
    "url = 'https://api.foursquare.com/v2/venues/search?client_id={}&client_secret={}&ll={},{}&v={}&query={}&radius={}&limit={}'.format(CLIENT_ID, CLIENT_SECRET, latitude, longitude, VERSION, search_query, radius, LIMIT)\n",
    "url"
   ]
  },
  {
   "cell_type": "markdown",
   "metadata": {},
   "source": [
    "Let us use the above url to get the list of venues around Indranagar"
   ]
  },
  {
   "cell_type": "code",
   "execution_count": null,
   "metadata": {},
   "outputs": [],
   "source": [
    "results = requests.get(url).json()\n",
    "results"
   ]
  },
  {
   "cell_type": "code",
   "execution_count": null,
   "metadata": {},
   "outputs": [],
   "source": [
    "# assign relevant part of JSON to venues\n",
    "venues = results['response']['venues']\n",
    "\n",
    "# tranform venues into a dataframe\n",
    "venues_df = json_normalize(venues)\n",
    "venues_df.head()"
   ]
  },
  {
   "cell_type": "code",
   "execution_count": null,
   "metadata": {},
   "outputs": [],
   "source": [
    "venues_df.shape"
   ]
  },
  {
   "cell_type": "code",
   "execution_count": null,
   "metadata": {},
   "outputs": [],
   "source": [
    "venues_df.columns"
   ]
  },
  {
   "cell_type": "markdown",
   "metadata": {},
   "source": [
    "There are around 30 venues around Indiranagar. Let us fetch the time when these venues are the most active along with their rating"
   ]
  },
  {
   "cell_type": "code",
   "execution_count": null,
   "metadata": {},
   "outputs": [],
   "source": [
    "# All the venue Ids\n",
    "venues_df['id']"
   ]
  },
  {
   "cell_type": "code",
   "execution_count": null,
   "metadata": {},
   "outputs": [],
   "source": [
    "# A list to store the fetched venue rating and popular time and venue id\n",
    "# Since I am unable to automate the API call to fetch details of all these venues. I am manually fetching data\n",
    "#          for each lcoation and creating a list \n",
    "venue_popularity_rating = [] "
   ]
  },
  {
   "cell_type": "code",
   "execution_count": null,
   "metadata": {},
   "outputs": [],
   "source": [
    "temp_id = '4b8e74edf964a520942333e3'\n",
    "temp_url = 'https://api.foursquare.com/v2/venues/{}?client_id={}&client_secret={}&v={}'.format(temp_id, CLIENT_ID, CLIENT_SECRET, VERSION) \n",
    "temp_deets = requests.get(temp_url).json()\n",
    "temp_popular=temp_deets['response']['venue']['popular']['timeframes']\n",
    "temp_rating=temp_deets['response']['venue']['rating']\n",
    "temp_venue=temp_deets['response']['venue']['id']\n",
    "print(temp_popular, type(temp_popular))\n",
    "print('\\n')\n",
    "print(temp_rating, type(temp_rating))\n",
    "print(temp_venue, type(temp_venue))\n",
    "venue_popularity_rating.append([temp_venue, temp_rating, temp_popular])"
   ]
  },
  {
   "cell_type": "code",
   "execution_count": null,
   "metadata": {},
   "outputs": [],
   "source": [
    "temp_id_2 = '4b685a68f964a5205a732be3'\n",
    "temp_url_2 = 'https://api.foursquare.com/v2/venues/{}?client_id={}&client_secret={}&v={}'.format(temp_id_2, CLIENT_ID, CLIENT_SECRET, VERSION) \n",
    "temp_deets_2 = requests.get(temp_url_2).json()\n",
    "temp_popular_2=temp_deets_2['response']['venue']['popular']['timeframes']\n",
    "temp_rating_2=temp_deets_2['response']['venue']['rating']\n",
    "temp_venue_2=temp_deets_2['response']['venue']['id']\n",
    "print(temp_popular_2, type(temp_popular_2))\n",
    "print('\\n')\n",
    "print(temp_rating_2, type(temp_rating_2))\n",
    "print(temp_venue_2, type(temp_venue_2))\n",
    "venue_popularity_rating.append([temp_venue_2, temp_rating_2, temp_popular_2])"
   ]
  },
  {
   "cell_type": "code",
   "execution_count": null,
   "metadata": {},
   "outputs": [],
   "source": [
    "temp_id_3 = '55311431498edd664401629e'\n",
    "temp_url_3 = 'https://api.foursquare.com/v2/venues/{}?client_id={}&client_secret={}&v={}'.format(temp_id_3, CLIENT_ID, CLIENT_SECRET, VERSION) \n",
    "temp_deets_3 = requests.get(temp_url_3).json()\n",
    "temp_popular_3=temp_deets_3['response']['venue']['popular']['timeframes']\n",
    "temp_rating_3=temp_deets_3['response']['venue']['rating']\n",
    "temp_venue_3=temp_deets_3['response']['venue']['id']\n",
    "print(temp_popular_3, type(temp_popular_3))\n",
    "print('\\n')\n",
    "print(temp_rating_3, type(temp_rating_3))\n",
    "print(temp_venue_3, type(temp_venue_3))\n",
    "venue_popularity_rating.append([temp_venue_3, temp_rating_3, temp_popular_3])"
   ]
  },
  {
   "cell_type": "code",
   "execution_count": null,
   "metadata": {},
   "outputs": [],
   "source": [
    "temp_id_4 = '5340596b498e3c13ad5f59a7'\n",
    "temp_url_4 = 'https://api.foursquare.com/v2/venues/{}?client_id={}&client_secret={}&v={}'.format(temp_id_4, CLIENT_ID, CLIENT_SECRET, VERSION) \n",
    "temp_deets_4 = requests.get(temp_url_4).json()\n",
    "temp_popular_4=temp_deets_4['response']['venue']['popular']['timeframes']\n",
    "temp_rating_4=temp_deets_4['response']['venue']['rating']\n",
    "temp_venue_4=temp_deets_4['response']['venue']['id']\n",
    "print(temp_popular_4, type(temp_popular_4))\n",
    "print('\\n')\n",
    "print(temp_rating_4, type(temp_rating_4))\n",
    "print(temp_venue_4, type(temp_venue_4))\n",
    "venue_popularity_rating.append([temp_venue_4, temp_rating_4, temp_popular_4])"
   ]
  },
  {
   "cell_type": "code",
   "execution_count": null,
   "metadata": {},
   "outputs": [],
   "source": [
    "temp_id_5 = '4e0a20ed14959022c8a93dec'\n",
    "temp_url_5 = 'https://api.foursquare.com/v2/venues/{}?client_id={}&client_secret={}&v={}'.format(temp_id_5, CLIENT_ID, CLIENT_SECRET, VERSION) \n",
    "temp_deets_5 = requests.get(temp_url_5).json()\n",
    "temp_popular_5=temp_deets_5['response']['venue']['popular']['timeframes']\n",
    "temp_rating_5=temp_deets_5['response']['venue']['rating']\n",
    "temp_venue_5=temp_deets_5['response']['venue']['id']\n",
    "print(temp_popular_5, type(temp_popular_5))\n",
    "print('\\n')\n",
    "print(temp_rating_5, type(temp_rating_5))\n",
    "print(temp_venue_5, type(temp_venue_5))\n",
    "venue_popularity_rating.append([temp_venue_5, temp_rating_5, temp_popular_5])"
   ]
  },
  {
   "cell_type": "code",
   "execution_count": null,
   "metadata": {},
   "outputs": [],
   "source": [
    "temp_id_6 = '51a61c6e498ec6f690bf2987'\n",
    "temp_url_6 = 'https://api.foursquare.com/v2/venues/{}?client_id={}&client_secret={}&v={}'.format(temp_id_6, CLIENT_ID, CLIENT_SECRET, VERSION) \n",
    "temp_deets_6 = requests.get(temp_url_6).json()\n",
    "temp_popular_6=temp_deets_6['response']['venue']['popular']['timeframes']\n",
    "temp_rating_6=temp_deets_6['response']['venue']['rating']\n",
    "temp_venue_6=temp_deets_6['response']['venue']['id']\n",
    "print(temp_popular_6, type(temp_popular_6))\n",
    "print('\\n')\n",
    "print(temp_rating_6, type(temp_rating_6))\n",
    "print(temp_venue_6, type(temp_venue_6))\n",
    "venue_popularity_rating.append([temp_venue_6, temp_rating_6, temp_popular_6])"
   ]
  },
  {
   "cell_type": "code",
   "execution_count": null,
   "metadata": {},
   "outputs": [],
   "source": [
    "temp_id_7 = '533850ad498e5cc1a990f184'\n",
    "temp_url_7 = 'https://api.foursquare.com/v2/venues/{}?client_id={}&client_secret={}&v={}'.format(temp_id_7, CLIENT_ID, CLIENT_SECRET, VERSION) \n",
    "temp_deets_7 = requests.get(temp_url_7).json()\n",
    "temp_popular_7=temp_deets_7['response']['venue']['popular']['timeframes']\n",
    "temp_rating_7=temp_deets_7['response']['venue']['rating']\n",
    "temp_venue_7=temp_deets_7['response']['venue']['id']\n",
    "print(temp_popular_7, type(temp_popular_7))\n",
    "print('\\n')\n",
    "print(temp_rating_7, type(temp_rating_7))\n",
    "print(temp_venue_7, type(temp_venue_7))\n",
    "venue_popularity_rating.append([temp_venue_7, temp_rating_7, temp_popular_7])"
   ]
  },
  {
   "cell_type": "code",
   "execution_count": null,
   "metadata": {},
   "outputs": [],
   "source": [
    "temp_id_8 = '4bcafd09511f95211f9ab0c7'\n",
    "temp_url_8 = 'https://api.foursquare.com/v2/venues/{}?client_id={}&client_secret={}&v={}'.format(temp_id_8, CLIENT_ID, CLIENT_SECRET, VERSION) \n",
    "temp_deets_8 = requests.get(temp_url_8).json()\n",
    "temp_popular_8=temp_deets_8['response']['venue']['popular']['timeframes']\n",
    "temp_rating_8=temp_deets_8['response']['venue']['rating']\n",
    "temp_venue_8=temp_deets_8['response']['venue']['id']\n",
    "print(temp_popular_8, type(temp_popular_8))\n",
    "print('\\n')\n",
    "print(temp_rating_8, type(temp_rating_8))\n",
    "print(temp_venue_8, type(temp_venue_8))\n",
    "venue_popularity_rating.append([temp_venue_8, temp_rating_8, temp_popular_8])"
   ]
  },
  {
   "cell_type": "code",
   "execution_count": null,
   "metadata": {},
   "outputs": [],
   "source": [
    "temp_id_9 = '4c62b2dffa7bc928f5ab0e27'\n",
    "temp_url_9 = 'https://api.foursquare.com/v2/venues/{}?client_id={}&client_secret={}&v={}'.format(temp_id_9, CLIENT_ID, CLIENT_SECRET, VERSION) \n",
    "temp_deets_9 = requests.get(temp_url_9).json()\n",
    "temp_popular_9=temp_deets_9['response']['venue']['popular']['timeframes']\n",
    "temp_rating_9=temp_deets_9['response']['venue']['rating']\n",
    "temp_venue_9=temp_deets_9['response']['venue']['id']\n",
    "print(temp_popular_9, type(temp_popular_9))\n",
    "print('\\n')\n",
    "print(temp_rating_9, type(temp_rating_9))\n",
    "print(temp_venue_9, type(temp_venue_9))\n",
    "venue_popularity_rating.append([temp_venue_9, temp_rating_9, temp_popular_9])"
   ]
  },
  {
   "cell_type": "code",
   "execution_count": null,
   "metadata": {},
   "outputs": [],
   "source": [
    "temp_id_10 = '50ba05f6e4b013672743c917'\n",
    "temp_url_10 = 'https://api.foursquare.com/v2/venues/{}?client_id={}&client_secret={}&v={}'.format(temp_id_10, CLIENT_ID, CLIENT_SECRET, VERSION) \n",
    "temp_deets_10 = requests.get(temp_url_10).json()\n",
    "temp_popular_10=temp_deets_10['response']['venue']['popular']['timeframes']\n",
    "temp_rating_10=temp_deets_10['response']['venue']['rating']\n",
    "temp_venue_10=temp_deets_10['response']['venue']['id']\n",
    "print(temp_popular_10, type(temp_popular_10))\n",
    "print('\\n')\n",
    "print(temp_rating_10, type(temp_rating_10))\n",
    "print(temp_venue_10, type(temp_venue_10))\n",
    "venue_popularity_rating.append([temp_venue_10, temp_rating_10, temp_popular_10])"
   ]
  },
  {
   "cell_type": "code",
   "execution_count": null,
   "metadata": {},
   "outputs": [],
   "source": [
    "# code to automate the Foursquare API call to get rating and popularity\n",
    "# does not work in sandbox/free subrscription\n",
    "# venue_popularity_rating = []\n",
    "# for temp_id in venues_df:\n",
    "#     temp_url = 'https://api.foursquare.com/v2/venues/{}?client_id={}&client_secret={}&v={}'.format(temp_id, CLIENT_ID, CLIENT_SECRET, VERSION)\n",
    "#     temp_deets = requests.get(temp_url).json()\n",
    "#     temp_popular = temp_deets['response']['venue']['popular']['timeframes']\n",
    "#     temp_rating = temp_deets['response']['venue']['rating']\n",
    "#     temp_venue = temp_deets['response']['venue']['id']\n",
    "#     print(temp_popular)\n",
    "#     print('\\n')\n",
    "#     print(temp_rating)\n",
    "#     venue_popularity_rating.append(temp_venue,temp_rating, temp_popular)\n",
    "# print(len(venue_popularity_rating))"
   ]
  },
  {
   "cell_type": "code",
   "execution_count": null,
   "metadata": {},
   "outputs": [],
   "source": [
    "# I could fetch details of only about 10 lcoations \n",
    "print(len(venue_popularity_rating))"
   ]
  },
  {
   "cell_type": "code",
   "execution_count": null,
   "metadata": {},
   "outputs": [],
   "source": [
    "# Convert the details fetched into a pandas data frame for further processing\n",
    "df_venue_popularity_rating = pd.DataFrame(venue_popularity_rating)\n",
    "df_venue_popularity_rating.columns = ['id', 'rating', 'popularity']\n",
    "df_venue_popularity_rating.head()"
   ]
  },
  {
   "cell_type": "code",
   "execution_count": null,
   "metadata": {},
   "outputs": [],
   "source": [
    "# Merge the venue details along with its rating and popularity\n",
    "merge_df = venues_df.merge(df_venue_popularity_rating,\n",
    "    how='left',\n",
    "    left_on='id',\n",
    "    right_on='id',\n",
    "    sort=False,\n",
    "    suffixes=('_x', '_y'),\n",
    "    copy=True,\n",
    "    indicator=False,\n",
    "    validate=None,)\n",
    "merge_df.head()"
   ]
  },
  {
   "cell_type": "code",
   "execution_count": null,
   "metadata": {},
   "outputs": [],
   "source": [
    "merge_df.shape"
   ]
  },
  {
   "cell_type": "markdown",
   "metadata": {},
   "source": [
    "Out of the 30 venues selected venues in Indiranagar only few venues have populartity/rating data. Let us now look at\n",
    "these venues on a map"
   ]
  },
  {
   "cell_type": "markdown",
   "metadata": {},
   "source": [
    "First let us visualize the venues that have a rating and popular time data"
   ]
  },
  {
   "cell_type": "code",
   "execution_count": null,
   "metadata": {},
   "outputs": [],
   "source": [
    "import folium\n",
    "# create map of Indiranagr using latitude and longitude values\n",
    "map_indiranagar = folium.Map(location=[latitude, longitude], zoom_start=14)\n",
    "\n",
    "# add markers to map\n",
    "for lat, lng, label in zip(merge_df.loc[merge_df['rating'].notnull(),'location.lat'], \n",
    "                           merge_df.loc[merge_df['rating'].notnull(),'location.lng'], \n",
    "                          merge_df.loc[merge_df['rating'].notnull(),'name']):\n",
    "    label = folium.Popup(label, parse_html=True)\n",
    "    folium.CircleMarker(\n",
    "        [lat, lng],\n",
    "        radius=5,\n",
    "        popup=label,\n",
    "        color='blue',\n",
    "        fill=True,\n",
    "        fill_color='#3186cc',\n",
    "        fill_opacity=0.7,\n",
    "        parse_html=False).add_to(map_indiranagar)  \n",
    "    \n",
    "map_indiranagar"
   ]
  },
  {
   "cell_type": "markdown",
   "metadata": {},
   "source": [
    "Let us plot the venues that do not have much data about popular timing and/or ratings"
   ]
  },
  {
   "cell_type": "code",
   "execution_count": null,
   "metadata": {},
   "outputs": [],
   "source": [
    "# add markers to map\n",
    "for lat, lng, label in zip(merge_df.loc[merge_df['rating'].isnull(),'location.lat'], \n",
    "                           merge_df.loc[merge_df['rating'].isnull(),'location.lng'], \n",
    "                          merge_df.loc[merge_df['rating'].isnull(),'name']):\n",
    "    label = folium.Popup(label, parse_html=True)\n",
    "    folium.CircleMarker(\n",
    "        [lat, lng],\n",
    "        radius=3,\n",
    "        popup=label,\n",
    "        color='red',\n",
    "        fill=True,\n",
    "        fill_color='#FF0000',\n",
    "        fill_opacity=0.7,\n",
    "        parse_html=False).add_to(map_indiranagar)  \n",
    "    \n",
    "map_indiranagar"
   ]
  },
  {
   "cell_type": "markdown",
   "metadata": {},
   "source": [
    "As can be seen many of the venues do not have data about popular timings or rating. these could be because of the following reasons\n",
    "* Foursquare API is not yet popular with all the visitors or folks in Bangalore\n",
    "* The venues are not that popular/happening"
   ]
  },
  {
   "cell_type": "markdown",
   "metadata": {},
   "source": [
    "Let us explore fruther to understnad better. Let us look at the rated venues and see their categories"
   ]
  },
  {
   "cell_type": "code",
   "execution_count": null,
   "metadata": {},
   "outputs": [],
   "source": [
    "#Let us check the top rated venues\n",
    "merge_df['rating'].sort_values().value_counts()"
   ]
  },
  {
   "cell_type": "code",
   "execution_count": null,
   "metadata": {},
   "outputs": [],
   "source": [
    "# Let us highlight the venues with rating > 7 with a black ring\n",
    "# add markers to map\n",
    "for lat, lng, label in zip(merge_df.loc[(merge_df['rating'].notnull()) & (merge_df['rating']>7) ,'location.lat'], \n",
    "                           merge_df.loc[(merge_df['rating'].notnull()) & (merge_df['rating']>7) ,'location.lng'], \n",
    "                          merge_df.loc[(merge_df['rating'].notnull()) & (merge_df['rating']>7) ,'name']):\n",
    "    label = folium.Popup(label, parse_html=True)\n",
    "    folium.CircleMarker(\n",
    "        [lat, lng],\n",
    "        radius=3,\n",
    "        popup=label,\n",
    "        color='black',\n",
    "        fill=True,\n",
    "        fill_color='#FF0000',\n",
    "        fill_opacity=0.7,\n",
    "        parse_html=False).add_to(map_indiranagar)  \n",
    "    \n",
    "map_indiranagar"
   ]
  },
  {
   "cell_type": "code",
   "execution_count": null,
   "metadata": {},
   "outputs": [],
   "source": [
    "# Listing the venues with rating greater than 7\n",
    "varx = merge_df.loc[(merge_df['rating'].notnull()) & (merge_df['rating']>7) ,['name', 'categories','rating']]\n",
    "varx"
   ]
  },
  {
   "cell_type": "code",
   "execution_count": null,
   "metadata": {},
   "outputs": [],
   "source": [
    "# Let us get the categories column cleaned. Thankfully there is code already available from Week 2 lesson :-P\n",
    "def get_category_type(row):\n",
    "    try:\n",
    "        categories_list = row['categories']\n",
    "    except:\n",
    "        categories_list = row['venue.categories']\n",
    "        \n",
    "    if len(categories_list) == 0:\n",
    "        return None\n",
    "    else:\n",
    "        return categories_list[0]['name']"
   ]
  },
  {
   "cell_type": "code",
   "execution_count": null,
   "metadata": {},
   "outputs": [],
   "source": [
    "merge_df['categories'] = merge_df.apply(get_category_type, axis=1)\n",
    "merge_df.head()"
   ]
  },
  {
   "cell_type": "code",
   "execution_count": null,
   "metadata": {},
   "outputs": [],
   "source": [
    "# Now that category column is cleaned let us analyse the venues with rating greater than 7\n",
    "merge_df.loc[(merge_df['rating'].notnull()) & (merge_df['rating']>7) ,['categories','name','rating']]"
   ]
  },
  {
   "cell_type": "markdown",
   "metadata": {},
   "source": [
    "Interseting, most of the venues seems to be top of the line bars with the only exception being an Italian resturant. "
   ]
  },
  {
   "cell_type": "markdown",
   "metadata": {},
   "source": [
    "I serached Google for more information about the other venues. It appears that most of the venues are food and family kinda places. Few of the venues are also local bars where the local working class poulation would like to visit, these venues usually do not have music or good ambience to relax/party. The working class population are not usually tech savy and may not use applications like Foursquare hence we do not have much information about these venues."
   ]
  },
  {
   "cell_type": "markdown",
   "metadata": {},
   "source": [
    "### From the above visuals, searches and analysis we can infer that folks in Bangalore would like to party where there is alcohol serverd along with music and a good ambience. Most of these venues seems to be centered around 'Sony Center Signal'."
   ]
  },
  {
   "cell_type": "code",
   "execution_count": null,
   "metadata": {},
   "outputs": [],
   "source": []
  }
 ],
 "metadata": {
  "kernelspec": {
   "display_name": "Python 3",
   "language": "python",
   "name": "python3"
  },
  "language_info": {
   "codemirror_mode": {
    "name": "ipython",
    "version": 3
   },
   "file_extension": ".py",
   "mimetype": "text/x-python",
   "name": "python",
   "nbconvert_exporter": "python",
   "pygments_lexer": "ipython3",
   "version": "3.7.3"
  }
 },
 "nbformat": 4,
 "nbformat_minor": 2
}
